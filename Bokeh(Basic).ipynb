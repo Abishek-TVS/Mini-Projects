{
 "cells": [
  {
   "cell_type": "code",
   "execution_count": 8,
   "metadata": {},
   "outputs": [],
   "source": [
    "from bokeh.plotting import figure\n",
    "from bokeh.io import show,output_file\n",
    "\n",
    "# creating some data\n",
    "x = [1,2,3,4,5]\n",
    "y = [6,7,8,9,10]\n",
    "\n",
    "# prepare the output file\n",
    "output_file('Line.html')\n",
    "\n",
    "#creating a figure object\n",
    "f = figure()\n",
    "\n",
    "#creating line plot\n",
    "f.circle(x,y)\n",
    "f.line(x,y)\n",
    "f.triangle(x,y)\n",
    "\n",
    "#write the plot into figure object\n",
    "show(f)"
   ]
  },
  {
   "cell_type": "code",
   "execution_count": 20,
   "metadata": {},
   "outputs": [],
   "source": [
    "with open('data.csv','a') as file:\n",
    "    file.write('x,y\\n1,6\\n2,7\\n3,8\\n4,9\\n5,10')\n",
    "\n"
   ]
  },
  {
   "cell_type": "code",
   "execution_count": 34,
   "metadata": {},
   "outputs": [],
   "source": [
    "from bokeh.plotting import figure\n",
    "from bokeh.io import show,output_file\n",
    "import pandas\n",
    "\n",
    "#sharing data from file\n",
    "data = pandas.read_csv('data.csv')\n",
    "x = data['x']\n",
    "y = data['y']\n",
    "\n",
    "# prepare the output file\n",
    "output_file('Line.html')\n",
    "\n",
    "#creating a figure object\n",
    "f = figure()\n",
    "\n",
    "#creating line plot\n",
    "f.circle(x,y)\n",
    "f.line(x,y)\n",
    "f.triangle(x,y)\n",
    "\n",
    "#write the plot into figure object\n",
    "show(f)"
   ]
  },
  {
   "cell_type": "code",
   "execution_count": 31,
   "metadata": {},
   "outputs": [],
   "source": [
    "#Plotting graph of women recieved degree(exercise)\n",
    "\n",
    "#importing pandas and bokeh\n",
    "from bokeh.plotting import figure\n",
    "from bokeh.io import show,output_file\n",
    "import pandas\n",
    "\n",
    "#import data from file\n",
    "data = pandas.read_csv('bachelors.csv')\n",
    "year = data['Year']\n",
    "engg = data['Engineering']\n",
    "\n",
    "#creating output file\n",
    "output_file('bachelors.html')\n",
    "\n",
    "#create figure object\n",
    "f = figure()\n",
    "\n",
    "#plotting graph\n",
    "f.line(year,engg)\n",
    "\n",
    "show(f)"
   ]
  },
  {
   "cell_type": "code",
   "execution_count": 68,
   "metadata": {},
   "outputs": [],
   "source": [
    "import pandas\n",
    "from bokeh.plotting import figure, output_file, show\n",
    " \n",
    "p=figure(plot_width=600,plot_height=600)\n",
    " \n",
    "p.title.text=\"Cool Data\"\n",
    "p.title.text_color=\"Orange\"\n",
    "p.title.text_font=\"arial\"\n",
    "p.title.text_font_style=\"italic\"\n",
    "p.xaxis.minor_tick_line_color=None\n",
    "p.yaxis.minor_tick_line_color=None\n",
    "p.xaxis.axis_label=\"Date\"\n",
    "p.yaxis.axis_label=\"Intensity\"    \n",
    " \n",
    "p.line([1,2,3],[4,5,6])\n",
    "output_file(\"graph.html\")\n",
    "show(p)"
   ]
  },
  {
   "cell_type": "code",
   "execution_count": 69,
   "metadata": {},
   "outputs": [],
   "source": [
    "from bokeh.plotting import figure, output_file, show\n",
    "p = figure(plot_width=500, plot_height=400, tools = 'pan, reset')\n",
    "p.title.text = \"Earthquakes\"\n",
    "p.title.text_color = \"Orange\"\n",
    "p.title.text_font = \"times\"\n",
    "p.title.text_font_style = \"italic\"\n",
    "p.yaxis.minor_tick_line_color = \"Yellow\"\n",
    "p.xaxis.axis_label = \"Times\"\n",
    "p.yaxis.axis_label = \"Value\"\n",
    "p.circle([1,2,3,4,5], [5,6,5,5,3], size = [i*2 for i in [8,12,14,15,20]], color=\"red\", alpha=0.5)\n",
    "output_file(\"Scatter_plotting.html\")\n",
    "show(p)"
   ]
  },
  {
   "cell_type": "code",
   "execution_count": 67,
   "metadata": {},
   "outputs": [],
   "source": [
    "import pandas\n",
    "from bokeh.plotting import figure, output_file, show\n",
    "\n",
    "plot = figure(plot_width=600,plot_height=600,tools='pan')\n",
    "plot = p\n",
    "\n",
    "p.title.text = \"Temp vs Pres Graph\"\n",
    "p.title.text_color = 'blue'\n",
    "p.title.text_font_style = 'bold'\n",
    "#p.xaxis.minor_tick_line_color=None\n",
    "#p.yaxis.minor_tick_line_color=None\n",
    "p.yaxis.axis_label = \"Pressure(hPa)\"\n",
    "p.xaxis.axis_label = \"Temperature(C)\"\n",
    "\n",
    "data = pandas.read_excel('verlegenhuken.xlsx')\n",
    "data['Temperature'] = data['Temperature']/10\n",
    "data['Pressure'] = data['Pressure']/10\n",
    "\n",
    "p.circle(x,y,size=0.5)\n",
    "output_file('temppressure.html')\n",
    "show(p)"
   ]
  },
  {
   "cell_type": "code",
   "execution_count": 79,
   "metadata": {},
   "outputs": [],
   "source": [
    "import pandas\n",
    "from bokeh.plotting import figure, output_file, show\n",
    "\n",
    "data = pandas.read_csv(\"originalmarket.csv\",parse_dates=[\"Date\"])\n",
    "\n",
    "f = figure(width=1000, height=500, x_axis_type='datetime')\n",
    "\n",
    "f.line(data['Date'], data['Close'], line_color='red', alpha=0.7)\n",
    "\n",
    "output_file('timeseries.html')\n",
    "show(f)"
   ]
  },
  {
   "cell_type": "code",
   "execution_count": null,
   "metadata": {},
   "outputs": [],
   "source": []
  }
 ],
 "metadata": {
  "kernelspec": {
   "display_name": "Python 3.6.5 32-bit",
   "language": "python",
   "name": "python36532bit9d16640461bd483db88a7f0bc7f43e34"
  },
  "language_info": {
   "codemirror_mode": {
    "name": "ipython",
    "version": 3
   },
   "file_extension": ".py",
   "mimetype": "text/x-python",
   "name": "python",
   "nbconvert_exporter": "python",
   "pygments_lexer": "ipython3",
   "version": "3.6.5"
  }
 },
 "nbformat": 4,
 "nbformat_minor": 4
}

{
 "cells": [
  {
   "cell_type": "code",
   "execution_count": 213,
   "metadata": {},
   "outputs": [
    {
     "data": {
      "text/plain": [
       "pandas.core.frame.DataFrame"
      ]
     },
     "execution_count": 213,
     "metadata": {},
     "output_type": "execute_result"
    }
   ],
   "source": [
    "from pandas_datareader import DataReader\n",
    "import datetime as dt\n",
    "\n",
    "start = dt.datetime(2020,1,1)\n",
    "end = dt.datetime(2020,5,1)\n",
    "\n",
    "df = DataReader(\"AAPL\",data_source='yahoo',start=start,end=end)\n",
    "type(p)"
   ]
  },
  {
   "cell_type": "code",
   "execution_count": 204,
   "metadata": {},
   "outputs": [
    {
     "name": "stderr",
     "output_type": "stream",
     "text": [
      "BokehUserWarning: ColumnDataSource's columns must be of the same length. Current lengths: ('x', 37), ('y', 85)\n",
      "BokehUserWarning: ColumnDataSource's columns must be of the same length. Current lengths: ('height', 85), ('x', 37), ('y', 85)\n",
      "BokehUserWarning: ColumnDataSource's columns must be of the same length. Current lengths: ('x', 48), ('y', 85)\n",
      "BokehUserWarning: ColumnDataSource's columns must be of the same length. Current lengths: ('height', 85), ('x', 48), ('y', 85)\n"
     ]
    }
   ],
   "source": [
    "from bokeh.plotting import figure, show, output_file, gridplot\n",
    "\n",
    "f1 = figure(x_axis_type='datetime',width=600, height=200 ,sizing_mode='scale_width')\n",
    "f1.title.text = 'Market Analysis with silly mistake'\n",
    "\n",
    "red_zn = df.index[df.Open>df.Close]\n",
    "green_zn = df.index[df.Open<df.Close]\n",
    "\n",
    "hours_12_ms = 12*60*60*1000\n",
    "\n",
    "f1.rect(red_zn, (df.Open+df.Close)/2, hours_12_ms, abs(df.Open-df.Close))# mistake in this line\n",
    "f1.rect(green_zn, (df.Open+df.Close)/2, hours_12_ms, abs(df.Open-df.Close))# mistake in this line\n",
    "\n",
    "show(f1)"
   ]
  },
  {
   "cell_type": "code",
   "execution_count": 212,
   "metadata": {},
   "outputs": [],
   "source": [
    "f2 = figure(x_axis_type='datetime',width=600, height=200 ,sizing_mode='scale_width')\n",
    "f2.title.text = 'Market Analysis by short trick'\n",
    "\n",
    "red_zn = df.index[df.Open>df.Close]\n",
    "green_zn = df.index[df.Open<df.Close]\n",
    "\n",
    "hours_12_ms = 12*60*60*1000\n",
    "\n",
    "f2.segment(df.index,df.High,df.index,df.Low,line_color='black')\n",
    "f2.rect(red_zn, (df.Open[red_zn]+df.Close[red_zn])/2, hours_12_ms, abs(df.Open[red_zn]-df.Close[red_zn]),\n",
    "       fill_color='#00ff40',line_color='black')\n",
    "f2.rect(green_zn, (df.Open[green_zn]+df.Close[green_zn])/2, hours_12_ms, abs(df.Open[green_zn]-df.Close[green_zn]),\n",
    "       fill_color='#ff3333',line_color='black')\n",
    "\n",
    "show(f2)"
   ]
  },
  {
   "cell_type": "code",
   "execution_count": 209,
   "metadata": {},
   "outputs": [],
   "source": [
    "f3 = figure(x_axis_type='datetime', width=600, height=200, sizing_mode='scale_width')\n",
    "f3.title.text = 'Candle stick by modifying df'\n",
    "f3.xaxis.axis_label = 'Time Frame'\n",
    "f3.yaxis.axis_label = 'Stock Value'\n",
    "f3.grid.grid_line_alpha = 0.3\n",
    "\n",
    "hours_12_ms = 12*60*60*1000\n",
    "\n",
    "# df['status'][df.Open>df.Close] = 'fall'\n",
    "# df['status'][df.Open<df.Close] = 'rise'\n",
    "\n",
    "#      or  def rise_fall\n",
    "\n",
    "def rise_fall(c,o):\n",
    "    if c < o:\n",
    "        value = 'fall'\n",
    "    elif c > o:\n",
    "        value = 'rise'\n",
    "    else:\n",
    "        value = 'equal'\n",
    "    return value\n",
    "\n",
    "\n",
    "red_zn = df.index[df.Open>df.Close]\n",
    "green_zn = df.index[df.Open<df.Close]\n",
    "\n",
    "df['status'] = [rise_fall(close, open) for close, open in zip(df.Close,df.Open)]\n",
    "df['middle'] = (df.Close+df.Open)/2\n",
    "df['height'] = abs(df.Close-df.Open)\n",
    "\n",
    "f3.segment(df.index,df.High,df.index,df.Low,line_color='black')\n",
    "f3.rect(df.index[df.status=='fall'], df.middle[df.status=='fall'], hours_12_ms, df.height[df.status == 'fall'],\n",
    "       fill_color='#00ff40',line_color='black')\n",
    "f3.rect(df.index[df.status == 'rise'], df.middle[df.status == 'rise'], hours_12_ms, df.height[df.status == 'rise'],\n",
    "       fill_color='#ff3333',line_color='black')\n",
    "\n",
    "show(f3)\n"
   ]
  },
  {
   "cell_type": "code",
   "execution_count": null,
   "metadata": {},
   "outputs": [],
   "source": []
  },
  {
   "cell_type": "code",
   "execution_count": null,
   "metadata": {},
   "outputs": [],
   "source": []
  }
 ],
 "metadata": {
  "kernelspec": {
   "display_name": "Python 3.6.5 32-bit",
   "language": "python",
   "name": "python36532bit9d16640461bd483db88a7f0bc7f43e34"
  },
  "language_info": {
   "codemirror_mode": {
    "name": "ipython",
    "version": 3
   },
   "file_extension": ".py",
   "mimetype": "text/x-python",
   "name": "python",
   "nbconvert_exporter": "python",
   "pygments_lexer": "ipython3",
   "version": "3.6.5"
  }
 },
 "nbformat": 4,
 "nbformat_minor": 4
}
